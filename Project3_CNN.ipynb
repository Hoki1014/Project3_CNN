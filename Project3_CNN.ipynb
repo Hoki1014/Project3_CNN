{
  "nbformat": 4,
  "nbformat_minor": 0,
  "metadata": {
    "colab": {
      "provenance": [],
      "toc_visible": true,
      "authorship_tag": "ABX9TyOCapzcR7jZxCGY+IMPWXh6",
      "include_colab_link": true
    },
    "kernelspec": {
      "name": "python3",
      "display_name": "Python 3"
    },
    "language_info": {
      "name": "python"
    }
  },
  "cells": [
    {
      "cell_type": "markdown",
      "metadata": {
        "id": "view-in-github",
        "colab_type": "text"
      },
      "source": [
        "<a href=\"https://colab.research.google.com/github/Hoki1014/Project3_CNN/blob/main/Project3_CNN.ipynb\" target=\"_parent\"><img src=\"https://colab.research.google.com/assets/colab-badge.svg\" alt=\"Open In Colab\"/></a>"
      ]
    },
    {
      "cell_type": "markdown",
      "source": [
        "Name: HeQi\n",
        "Id: 2640191187"
      ],
      "metadata": {
        "id": "wmEqTQxNVBqD"
      }
    },
    {
      "cell_type": "code",
      "source": [
        "from google.colab import drive\n",
        "drive.mount('/content/drive')"
      ],
      "metadata": {
        "colab": {
          "base_uri": "https://localhost:8080/"
        },
        "id": "IJu-fKafVuPb",
        "outputId": "fe5b1847-4012-4560-b1e3-385d45c6b565"
      },
      "execution_count": null,
      "outputs": [
        {
          "output_type": "stream",
          "name": "stdout",
          "text": [
            "Drive already mounted at /content/drive; to attempt to forcibly remount, call drive.mount(\"/content/drive\", force_remount=True).\n"
          ]
        }
      ]
    },
    {
      "cell_type": "markdown",
      "source": [
        "# Importing the libraries"
      ],
      "metadata": {
        "id": "MlvMxu_uDFba"
      }
    },
    {
      "cell_type": "code",
      "source": [
        "import numpy as np\n",
        "import pandas as pd\n",
        "import tensorflow as tf "
      ],
      "metadata": {
        "id": "d1ICYpTjDIKb"
      },
      "execution_count": null,
      "outputs": []
    },
    {
      "cell_type": "markdown",
      "source": [
        "# Part1- Data Processing"
      ],
      "metadata": {
        "id": "xnVbIc_ZC9WZ"
      }
    },
    {
      "cell_type": "code",
      "source": [
        "#load the data\n",
        "from mlxtend.data import loadlocal_mnist\n",
        "from tensorflow.keras.datasets import mnist"
      ],
      "metadata": {
        "id": "I323O5HUVNSS"
      },
      "execution_count": null,
      "outputs": []
    },
    {
      "cell_type": "code",
      "source": [
        "#load the dataset\n",
        "#(train_images, train_labels), (test_images, test_labels) = datasets.mnist.load_data()\n",
        "x_train_path = '/content/drive/My Drive/Process mining course/archive/train-images.idx3-ubyte'\n",
        "y_train_path = '/content/drive/My Drive/Process mining course/archive/train-labels.idx1-ubyte'\n",
        "\n",
        "x_test_path = '/content/drive/My Drive/Process mining course/archive/t10k-images.idx3-ubyte'\n",
        "y_test_path = '/content/drive/My Drive/Process mining course/archive/t10k-labels.idx1-ubyte'\n",
        "\n",
        "train_images, train_labels = loadlocal_mnist(x_train_path, y_train_path)\n",
        "\n",
        "test_images, test_labels = loadlocal_mnist(x_test_path, y_test_path)"
      ],
      "metadata": {
        "id": "TvDSbfY-E1Zp"
      },
      "execution_count": null,
      "outputs": []
    },
    {
      "cell_type": "markdown",
      "source": [
        "\n",
        "\n",
        "> Preprocess the training and test data\n",
        "\n",
        "*   Fed image size to CNN\n",
        "*   Feature scale them to avoid info leakage, overfitting\n",
        "\n",
        "\n",
        "\n"
      ],
      "metadata": {
        "id": "NlOdOzj_Id4P"
      }
    },
    {
      "cell_type": "code",
      "source": [
        "# Make sure image's shape\n",
        "train_images = train_images.reshape((60000, 28, 28, 1))\n",
        "test_images = test_images.reshape((10000, 28, 28, 1))\n",
        "\n",
        "# Normalize pixel values between 0 and 1\n",
        "train_images, test_images = train_images / 255.0, test_images / 255.0"
      ],
      "metadata": {
        "id": "-iYt8JaeUaBh"
      },
      "execution_count": null,
      "outputs": []
    },
    {
      "cell_type": "markdown",
      "source": [
        "# Part2-Building the CNN"
      ],
      "metadata": {
        "id": "GocZXEfTIx3C"
      }
    },
    {
      "cell_type": "code",
      "source": [
        "from tensorflow.keras import Sequential\n",
        "from tensorflow.keras.layers import Dense\n",
        "from tensorflow.keras import datasets, layers, models"
      ],
      "metadata": {
        "id": "4O7JcyKEgJCS"
      },
      "execution_count": null,
      "outputs": []
    },
    {
      "cell_type": "markdown",
      "source": [
        "\n",
        "\n",
        "> Initializing CNN\n",
        "\n"
      ],
      "metadata": {
        "id": "VvSoW4kVi7h1"
      }
    },
    {
      "cell_type": "markdown",
      "source": [
        "\n",
        "\n",
        "> Add convolutional filter\n",
        "\n",
        "*   filters: # of feature detectors\n",
        "*   kernel: size of feature detector, 3 by 3. (3,3)\n",
        "*   input shape of image: RGB = 3; black/white = 1\n",
        "\n",
        "\n",
        "\n",
        "\n",
        "\n"
      ],
      "metadata": {
        "id": "MY9JFvUtiRd4"
      }
    },
    {
      "cell_type": "markdown",
      "source": [
        "\n",
        "\n",
        "> Pooling\n",
        "\n",
        "*   pool_size: size of the square\n",
        "*   strides: the strides of square moving\n",
        "\n",
        "\n",
        "\n"
      ],
      "metadata": {
        "id": "xb6rpmlEj2FL"
      }
    },
    {
      "cell_type": "code",
      "source": [
        "#Initializing CNN\n",
        "model = models.Sequential()\n",
        "#Add convolutional filter\n",
        "model.add(layers.Conv2D(32, (3, 3), activation='relu', input_shape=(28, 28, 1)))\n",
        "#Add Pooling\n",
        "model.add(layers.MaxPooling2D((2, 2)))\n",
        "#Add second convolutional layers\n",
        "model.add(layers.Conv2D(64, (3, 3), activation='relu'))\n",
        "model.add(layers.MaxPooling2D((2, 2)))\n",
        "model.add(layers.Conv2D(64, (3, 3), activation='relu'))"
      ],
      "metadata": {
        "id": "KoEyIwWShlDN"
      },
      "execution_count": null,
      "outputs": []
    },
    {
      "cell_type": "code",
      "source": [
        "model.summary()"
      ],
      "metadata": {
        "colab": {
          "base_uri": "https://localhost:8080/"
        },
        "id": "8Yl4btrcXXT0",
        "outputId": "559ae6eb-6c38-41cf-c7a1-a29cb499d38d"
      },
      "execution_count": null,
      "outputs": [
        {
          "output_type": "stream",
          "name": "stdout",
          "text": [
            "Model: \"sequential_11\"\n",
            "_________________________________________________________________\n",
            " Layer (type)                Output Shape              Param #   \n",
            "=================================================================\n",
            " conv2d_34 (Conv2D)          (None, 26, 26, 32)        320       \n",
            "                                                                 \n",
            " max_pooling2d_22 (MaxPoolin  (None, 13, 13, 32)       0         \n",
            " g2D)                                                            \n",
            "                                                                 \n",
            " conv2d_35 (Conv2D)          (None, 11, 11, 64)        18496     \n",
            "                                                                 \n",
            " max_pooling2d_23 (MaxPoolin  (None, 5, 5, 64)         0         \n",
            " g2D)                                                            \n",
            "                                                                 \n",
            " conv2d_36 (Conv2D)          (None, 3, 3, 64)          36928     \n",
            "                                                                 \n",
            "=================================================================\n",
            "Total params: 55,744\n",
            "Trainable params: 55,744\n",
            "Non-trainable params: 0\n",
            "_________________________________________________________________\n"
          ]
        }
      ]
    },
    {
      "cell_type": "code",
      "source": [
        "#Flatenning\n",
        "model.add(layers.Flatten())\n",
        "#Full connection\n",
        "model.add(layers.Dense(64, activation='relu'))\n",
        "#Add output layer\n",
        "model.add(layers.Dense(10, activation='softmax'))"
      ],
      "metadata": {
        "id": "s66TL0QgNBQe"
      },
      "execution_count": null,
      "outputs": []
    },
    {
      "cell_type": "markdown",
      "source": [
        "# Part3-Training the CNN"
      ],
      "metadata": {
        "id": "s9pv3zVON35M"
      }
    },
    {
      "cell_type": "code",
      "source": [
        "#Compiling the CNN\n",
        "model.compile(optimizer='adam',\n",
        "              loss='sparse_categorical_crossentropy',\n",
        "              metrics=['accuracy'])"
      ],
      "metadata": {
        "id": "_czQgFpMN8m3"
      },
      "execution_count": null,
      "outputs": []
    },
    {
      "cell_type": "markdown",
      "source": [
        "\n",
        "\n",
        "> Training CNN on the training set and evaluating it on the test set.\n",
        "\n"
      ],
      "metadata": {
        "id": "ZtY49-bTOTfU"
      }
    },
    {
      "cell_type": "code",
      "source": [
        "#Training the CNN on the Training set\n",
        "model.fit(train_images, train_labels, epochs=5)"
      ],
      "metadata": {
        "colab": {
          "base_uri": "https://localhost:8080/"
        },
        "id": "tYZRAAh5Oejx",
        "outputId": "ec94a810-f613-42e2-b45b-9253429419a0"
      },
      "execution_count": null,
      "outputs": [
        {
          "output_type": "stream",
          "name": "stdout",
          "text": [
            "Epoch 1/5\n",
            "1875/1875 [==============================] - 75s 40ms/step - loss: 0.1041 - accuracy: 0.9671\n",
            "Epoch 2/5\n",
            "1875/1875 [==============================] - 70s 37ms/step - loss: 0.0361 - accuracy: 0.9883\n",
            "Epoch 3/5\n",
            "1875/1875 [==============================] - 75s 40ms/step - loss: 0.0263 - accuracy: 0.9913\n",
            "Epoch 4/5\n",
            "1875/1875 [==============================] - 72s 38ms/step - loss: 0.0200 - accuracy: 0.9938\n",
            "Epoch 5/5\n",
            "1875/1875 [==============================] - 73s 39ms/step - loss: 0.0167 - accuracy: 0.9946\n"
          ]
        },
        {
          "output_type": "execute_result",
          "data": {
            "text/plain": [
              "<keras.callbacks.History at 0x7fd75662f2b0>"
            ]
          },
          "metadata": {},
          "execution_count": 125
        }
      ]
    },
    {
      "cell_type": "code",
      "source": [
        "#Evaluate it on the test set\n",
        "test_loss, test_acc = model.evaluate(test_images, test_labels, verbose=2)\n",
        "print(test_acc)"
      ],
      "metadata": {
        "colab": {
          "base_uri": "https://localhost:8080/"
        },
        "id": "Wn_2rPUrPR99",
        "outputId": "303353bb-9f1f-4f81-c197-cde6cfa74fed"
      },
      "execution_count": null,
      "outputs": [
        {
          "output_type": "stream",
          "name": "stdout",
          "text": [
            "313/313 - 3s - loss: 0.0334 - accuracy: 0.9897 - 3s/epoch - 11ms/step\n",
            "0.9897000193595886\n"
          ]
        }
      ]
    }
  ]
}